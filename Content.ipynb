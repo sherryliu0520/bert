{
 "cells": [
  {
   "cell_type": "code",
   "execution_count": 1,
   "metadata": {},
   "outputs": [],
   "source": [
    "import math\n",
    "import pandas as pd\n",
    "import numpy as np\n",
    "import os\n",
    "import matplotlib.pyplot as plt\n",
    "import matplotlib.style as style\n",
    "import seaborn as sns\n",
    "import heapq # for retrieval topK\n",
    "import pickle\n",
    "import matplotlib.pyplot as plt\n",
    "import seaborn as sns\n",
    "import random\n",
    "import json\n",
    "from datetime import datetime\n",
    "from pprint import pprint \n",
    "from time import time\n",
    "from scipy import spatial\n",
    "%matplotlib inline"
   ]
  },
  {
   "cell_type": "markdown",
   "metadata": {},
   "source": [
    "![title](./F1.png)"
   ]
  },
  {
   "cell_type": "code",
   "execution_count": 2,
   "metadata": {},
   "outputs": [],
   "source": [
    "#每篇文章都將由3072個向量表示。\n",
    "#讀取BERT的JSON檔放入bert_vector\n",
    "bert_vector = []\n",
    "with open('../BERT test/output_1.json') as file:\n",
    "    for line in file.readlines():\n",
    "        bert_vector.append(json.loads(line))\n",
    "        \n"
   ]
  },
  {
   "cell_type": "markdown",
   "metadata": {},
   "source": [
    "![title](./F2.png)"
   ]
  },
  {
   "cell_type": "code",
   "execution_count": 3,
   "metadata": {},
   "outputs": [
    {
     "data": {
      "text/plain": [
       "(48503, 3)"
      ]
     },
     "execution_count": 3,
     "metadata": {},
     "output_type": "execute_result"
    }
   ],
   "source": [
    "#讀取文章檔案\n",
    "df = pd.read_csv('../news_info2.csv')\n",
    "df.shape"
   ]
  },
  {
   "cell_type": "code",
   "execution_count": 4,
   "metadata": {},
   "outputs": [
    {
     "data": {
      "text/html": [
       "<div>\n",
       "<style scoped>\n",
       "    .dataframe tbody tr th:only-of-type {\n",
       "        vertical-align: middle;\n",
       "    }\n",
       "\n",
       "    .dataframe tbody tr th {\n",
       "        vertical-align: top;\n",
       "    }\n",
       "\n",
       "    .dataframe thead th {\n",
       "        text-align: right;\n",
       "    }\n",
       "</style>\n",
       "<table border=\"1\" class=\"dataframe\">\n",
       "  <thead>\n",
       "    <tr style=\"text-align: right;\">\n",
       "      <th></th>\n",
       "      <th>news_id</th>\n",
       "      <th>news_class</th>\n",
       "      <th>news_class_Count</th>\n",
       "    </tr>\n",
       "  </thead>\n",
       "  <tbody>\n",
       "    <tr>\n",
       "      <th>0</th>\n",
       "      <td>d9c9f480-da76-412c-90f3-000006bb0ad0</td>\n",
       "      <td>2.0</td>\n",
       "      <td>472</td>\n",
       "    </tr>\n",
       "    <tr>\n",
       "      <th>1</th>\n",
       "      <td>cea69ac1-5c24-41f8-936a-00013f62de89</td>\n",
       "      <td>1.0</td>\n",
       "      <td>126</td>\n",
       "    </tr>\n",
       "    <tr>\n",
       "      <th>2</th>\n",
       "      <td>1c1dbc9e-78d9-4e5e-92a4-000599b43691</td>\n",
       "      <td>1.0</td>\n",
       "      <td>194</td>\n",
       "    </tr>\n",
       "    <tr>\n",
       "      <th>3</th>\n",
       "      <td>36187583-96b3-43f8-8733-000717d75a7a</td>\n",
       "      <td>5.0</td>\n",
       "      <td>911</td>\n",
       "    </tr>\n",
       "    <tr>\n",
       "      <th>4</th>\n",
       "      <td>628bb991-b9f7-4112-8926-0007f6bd2e7e</td>\n",
       "      <td>1.0</td>\n",
       "      <td>109</td>\n",
       "    </tr>\n",
       "  </tbody>\n",
       "</table>\n",
       "</div>"
      ],
      "text/plain": [
       "                                news_id  news_class  news_class_Count\n",
       "0  d9c9f480-da76-412c-90f3-000006bb0ad0         2.0               472\n",
       "1  cea69ac1-5c24-41f8-936a-00013f62de89         1.0               126\n",
       "2  1c1dbc9e-78d9-4e5e-92a4-000599b43691         1.0               194\n",
       "3  36187583-96b3-43f8-8733-000717d75a7a         5.0               911\n",
       "4  628bb991-b9f7-4112-8926-0007f6bd2e7e         1.0               109"
      ]
     },
     "execution_count": 4,
     "metadata": {},
     "output_type": "execute_result"
    }
   ],
   "source": [
    "#顯示部分文章\n",
    "df.head()"
   ]
  },
  {
   "cell_type": "code",
   "execution_count": 5,
   "metadata": {},
   "outputs": [],
   "source": [
    "#增加欄位features每篇文章都將由3072個向量表示\n",
    "df = df.reset_index().join(pd.DataFrame(bert_vector).features)"
   ]
  },
  {
   "cell_type": "code",
   "execution_count": 6,
   "metadata": {},
   "outputs": [
    {
     "data": {
      "text/html": [
       "<div>\n",
       "<style scoped>\n",
       "    .dataframe tbody tr th:only-of-type {\n",
       "        vertical-align: middle;\n",
       "    }\n",
       "\n",
       "    .dataframe tbody tr th {\n",
       "        vertical-align: top;\n",
       "    }\n",
       "\n",
       "    .dataframe thead th {\n",
       "        text-align: right;\n",
       "    }\n",
       "</style>\n",
       "<table border=\"1\" class=\"dataframe\">\n",
       "  <thead>\n",
       "    <tr style=\"text-align: right;\">\n",
       "      <th></th>\n",
       "      <th>index</th>\n",
       "      <th>news_id</th>\n",
       "      <th>news_class</th>\n",
       "      <th>news_class_Count</th>\n",
       "      <th>features</th>\n",
       "    </tr>\n",
       "  </thead>\n",
       "  <tbody>\n",
       "    <tr>\n",
       "      <th>0</th>\n",
       "      <td>0</td>\n",
       "      <td>d9c9f480-da76-412c-90f3-000006bb0ad0</td>\n",
       "      <td>2.0</td>\n",
       "      <td>472</td>\n",
       "      <td>[0.5079685996093749, 0.05682145703124999, -0.5...</td>\n",
       "    </tr>\n",
       "    <tr>\n",
       "      <th>1</th>\n",
       "      <td>1</td>\n",
       "      <td>cea69ac1-5c24-41f8-936a-00013f62de89</td>\n",
       "      <td>1.0</td>\n",
       "      <td>126</td>\n",
       "      <td>[0.6301766582031247, -0.11561564843750012, -0....</td>\n",
       "    </tr>\n",
       "    <tr>\n",
       "      <th>2</th>\n",
       "      <td>2</td>\n",
       "      <td>1c1dbc9e-78d9-4e5e-92a4-000599b43691</td>\n",
       "      <td>1.0</td>\n",
       "      <td>194</td>\n",
       "      <td>[0.7734264025316461, -0.22052073924050605, -0....</td>\n",
       "    </tr>\n",
       "    <tr>\n",
       "      <th>3</th>\n",
       "      <td>3</td>\n",
       "      <td>36187583-96b3-43f8-8733-000717d75a7a</td>\n",
       "      <td>5.0</td>\n",
       "      <td>911</td>\n",
       "      <td>[0.5616207304687506, 0.013011304687500011, -0....</td>\n",
       "    </tr>\n",
       "    <tr>\n",
       "      <th>4</th>\n",
       "      <td>4</td>\n",
       "      <td>628bb991-b9f7-4112-8926-0007f6bd2e7e</td>\n",
       "      <td>1.0</td>\n",
       "      <td>109</td>\n",
       "      <td>[0.6127381406249995, -0.04040539062499999, -0....</td>\n",
       "    </tr>\n",
       "  </tbody>\n",
       "</table>\n",
       "</div>"
      ],
      "text/plain": [
       "   index                               news_id  news_class  news_class_Count  \\\n",
       "0      0  d9c9f480-da76-412c-90f3-000006bb0ad0         2.0               472   \n",
       "1      1  cea69ac1-5c24-41f8-936a-00013f62de89         1.0               126   \n",
       "2      2  1c1dbc9e-78d9-4e5e-92a4-000599b43691         1.0               194   \n",
       "3      3  36187583-96b3-43f8-8733-000717d75a7a         5.0               911   \n",
       "4      4  628bb991-b9f7-4112-8926-0007f6bd2e7e         1.0               109   \n",
       "\n",
       "                                            features  \n",
       "0  [0.5079685996093749, 0.05682145703124999, -0.5...  \n",
       "1  [0.6301766582031247, -0.11561564843750012, -0....  \n",
       "2  [0.7734264025316461, -0.22052073924050605, -0....  \n",
       "3  [0.5616207304687506, 0.013011304687500011, -0....  \n",
       "4  [0.6127381406249995, -0.04040539062499999, -0....  "
      ]
     },
     "execution_count": 6,
     "metadata": {},
     "output_type": "execute_result"
    }
   ],
   "source": [
    "#顯示部分文章跟features\n",
    "df.head()"
   ]
  },
  {
   "cell_type": "code",
   "execution_count": 7,
   "metadata": {},
   "outputs": [],
   "source": [
    "#news_id跟features放入pid_vector\n",
    "#後面模型會用到\n",
    "pid_vector = {}\n",
    "for i in range(len(df)):\n",
    "    pid_vector[df['news_id'].values[i]] = df['features'].values[i]"
   ]
  },
  {
   "cell_type": "code",
   "execution_count": 8,
   "metadata": {},
   "outputs": [],
   "source": [
    "##定義函式getHitRatio & getNDCG\n",
    "#Hit ratio將計算測試集的平均得分。\n",
    "#NDCG 等級關聯性\n",
    "\n",
    "def getHitRatio(ranklist, gtItem):\n",
    "    if gtItem in ranklist:\n",
    "        return 1\n",
    "    return 0\n",
    "\n",
    "def getNDCG(ranklist, gtItem):\n",
    "    ar = np.array(ranklist)\n",
    "    if gtItem in ar:\n",
    "        return math.log(2) / math.log(np.where(ar == gtItem)[0][0] + 2)\n",
    "    return 0"
   ]
  },
  {
   "cell_type": "markdown",
   "metadata": {},
   "source": [
    "![title](./F3.jpeg)"
   ]
  },
  {
   "cell_type": "code",
   "execution_count": 9,
   "metadata": {},
   "outputs": [],
   "source": [
    "##定義函式\n",
    "#只是對測試集合中的某個用戶的某個物品，以及和事先劃分好的負樣本組合在一起進行預測，最終輸出該測試物品是否在topK中。\n",
    "def eval_one_rating(idx, eval_mode, uim, pid_vector,test_user_last_pid):\n",
    "    \n",
    "    '''''\n",
    "    eval_mode = 'Keras', 'ALS', 'matrix'\n",
    "    '''''\n",
    "    rating = _testRatings[idx]\n",
    "    ### rating should be like (  [(only one article, which is ground truth)]  ) \n",
    "    items = _testNegatives[idx][1]\n",
    "    ### items should be like (  [(19 ones, which are ones the reader haven't read)]  )\n",
    "    u = rating[0]\n",
    "    gtItem = rating[1]\n",
    "    items.append(gtItem)\n",
    "    \n",
    "    # Get prediction scores, the process is we offer 100(99 negative + 1 ground truth) \n",
    "    map_item_score = {}\n",
    "#     users = np.full(len(items), u, dtype = 'int32')\n",
    "\n",
    "    if eval_mode == 'ALS':\n",
    "        predictions = _model.rank_items(u, uim.T, items)\n",
    "        items.pop()\n",
    "        ranklist = np.array(predictions, dtype = int)[:_K,0]\n",
    "        \n",
    "    else:\n",
    "        if eval_mode == 'Keras':\n",
    "            predictions = _model.predict([users, np.array(items)], \n",
    "                                         batch_size=100, verbose=0)\n",
    "        elif eval_mode == 'matrix':         \n",
    "            predictions = _model[u,items]\n",
    "        \n",
    "        elif eval_mode == 'content-based':\n",
    "            predictions = []\n",
    "            pid_vectors = []\n",
    "            user_history_article_list = test_user_last_pid[u]\n",
    "            for pid in user_history_article_list:\n",
    "                if pid in pid_vector:\n",
    "                    pid_vectors.append(pid_vector[pid])\n",
    "            user_history_article_mean = np.array(pid_vectors).mean(axis = 0)\n",
    "        \n",
    "            for i in range(len(items)):\n",
    "                if items[i] in pid_vector:\n",
    "                    similarity = 1 - spatial.distance.cosine(user_history_article_mean,pid_vector[items[i]])\n",
    "                    predictions.append(similarity)\n",
    "                else:\n",
    "                    predictions.append(0)\n",
    "        for i in range(len(items)):\n",
    "            item = items[i]\n",
    "            map_item_score[item] = predictions[i]\n",
    "        items.pop()\n",
    "        \n",
    "        # Evaluate top rank list\n",
    "        ranklist = heapq.nlargest(_K, map_item_score, key=map_item_score.get)\n",
    "        \n",
    "    hr = getHitRatio(ranklist, gtItem)\n",
    "    ndcg = getNDCG(ranklist, gtItem)\n",
    "    return (hr, ndcg)"
   ]
  },
  {
   "cell_type": "code",
   "execution_count": 10,
   "metadata": {},
   "outputs": [],
   "source": [
    "##定義函式\n",
    "#評估模型：\n",
    "#評估top-K推薦的效果（Hit_Ratio，NDCG）\n",
    "#每個測試評分的分數。\n",
    "_model = None\n",
    "_testRatings = None\n",
    "_testNegatives = None\n",
    "_K = None\n",
    "\n",
    "def evaluate_model(model, testRatings, testNegatives, K, num_thread, eval_mode = 'Keras', uim = None,\n",
    "                   pid_vector = None, test_user_last_pid = None):\n",
    "\n",
    "    global _model\n",
    "    global _testRatings\n",
    "    global _testNegatives\n",
    "    global _K\n",
    "    _model = model\n",
    "    _testRatings = testRatings\n",
    "    _testNegatives = testNegatives\n",
    "    _K = K\n",
    "        \n",
    "    hits, ndcgs = [],[]\n",
    "    if(num_thread > 1): # Multi-thread\n",
    "        pool = multiprocessing.Pool(processes=num_thread)\n",
    "        res = pool.map(eval_one_rating, range(len(_testRatings)))\n",
    "        pool.close()\n",
    "        pool.join()\n",
    "        hits = [r[0] for r in res]\n",
    "        ndcgs = [r[1] for r in res]\n",
    "        return (hits, ndcgs)\n",
    "    else:# Single thread\n",
    "        for idx in range(len(_testRatings)):\n",
    "            (hr,ndcg) = eval_one_rating(idx, eval_mode, uim, pid_vector, test_user_last_pid)\n",
    "            hits.append(hr)\n",
    "            ndcgs.append(ndcg)      \n",
    "    return (hits, ndcgs)"
   ]
  },
  {
   "cell_type": "markdown",
   "metadata": {},
   "source": [
    "# Training Testing Split"
   ]
  },
  {
   "cell_type": "code",
   "execution_count": 11,
   "metadata": {},
   "outputs": [],
   "source": [
    "##定義函式\n",
    "#將訓練/測試集隨機分成9：1\n",
    "def train_test_split_time(df , columns_1 , columns_2 , columns_time , ratio = 0.9):\n",
    "\n",
    "    \n",
    "    retreive_name = df[columns_1].value_counts()[df[columns_1].value_counts()>5].keys()\n",
    "    df_test = df[df[columns_1].isin(retreive_name)]\n",
    "    df_test = df_test.sort_values(columns_time).groupby(columns_1).tail(1)\n",
    "    df_train = df.drop(index=df_test.index)\n",
    "    \n",
    "    if df_test.shape[0] + df_train.shape[0] == df.shape[0]:\n",
    "        print('train_test_split succeed!! with df_train shape:(%d,%d), df_test shape:(%d,%d)'\n",
    "              %(df_train.shape[0],df_train.shape[1],df_test.shape[0],df_test.shape[1])\n",
    "             )\n",
    "        return df_train, df_test, retreive_name\n",
    "    else:\n",
    "        print('Oops, something wrong, with df_train shape : (%d,%d), df_test shape : (%d,%d)'\n",
    "              %(df_train.shape[0],df_train.shape[1],df_test.shape[0],df_test.shape[1])\n",
    "             )\n",
    "        print('df_shape : (%d,%d)'\n",
    "              %(df.shape[0],df.shape[1])\n",
    "             )"
   ]
  },
  {
   "cell_type": "code",
   "execution_count": 12,
   "metadata": {},
   "outputs": [
    {
     "name": "stderr",
     "output_type": "stream",
     "text": [
      "/opt/conda/lib/python3.6/site-packages/IPython/core/interactiveshell.py:2785: DtypeWarning: Columns (1) have mixed types. Specify dtype option on import or set low_memory=False.\n",
      "  interactivity=interactivity, compiler=compiler, result=result)\n"
     ]
    },
    {
     "data": {
      "text/plain": [
       "(11308282, 5)"
      ]
     },
     "execution_count": 12,
     "metadata": {},
     "output_type": "execute_result"
    }
   ],
   "source": [
    "#讀user_id\n",
    "df1 = pd.read_csv('../newslog_df.csv')\n",
    "df1.shape"
   ]
  },
  {
   "cell_type": "code",
   "execution_count": 13,
   "metadata": {},
   "outputs": [
    {
     "data": {
      "text/html": [
       "<div>\n",
       "<style scoped>\n",
       "    .dataframe tbody tr th:only-of-type {\n",
       "        vertical-align: middle;\n",
       "    }\n",
       "\n",
       "    .dataframe tbody tr th {\n",
       "        vertical-align: top;\n",
       "    }\n",
       "\n",
       "    .dataframe thead th {\n",
       "        text-align: right;\n",
       "    }\n",
       "</style>\n",
       "<table border=\"1\" class=\"dataframe\">\n",
       "  <thead>\n",
       "    <tr style=\"text-align: right;\">\n",
       "      <th></th>\n",
       "      <th>user_id</th>\n",
       "      <th>human</th>\n",
       "      <th>my_time</th>\n",
       "      <th>time</th>\n",
       "      <th>guid</th>\n",
       "    </tr>\n",
       "  </thead>\n",
       "  <tbody>\n",
       "    <tr>\n",
       "      <th>0</th>\n",
       "      <td>7ee141b7-5941-403f-93cc-b4975eab2769</td>\n",
       "      <td>False</td>\n",
       "      <td>1.532336e+09</td>\n",
       "      <td>2018-07-23 17:00:01</td>\n",
       "      <td>550c8436-1174-4d60-b6ec-1199337fb287</td>\n",
       "    </tr>\n",
       "    <tr>\n",
       "      <th>1</th>\n",
       "      <td>539edc42-7362-47de-bf94-ce0cf68fb5de</td>\n",
       "      <td>False</td>\n",
       "      <td>1.532855e+09</td>\n",
       "      <td>2018-07-29 17:00:01</td>\n",
       "      <td>35606c49-c92e-4b70-9264-6dabd763d34d</td>\n",
       "    </tr>\n",
       "    <tr>\n",
       "      <th>2</th>\n",
       "      <td>a576a197-ce6c-482f-8117-a1b4b73f21e5</td>\n",
       "      <td>True</td>\n",
       "      <td>1.532073e+09</td>\n",
       "      <td>2018-07-20 15:49:28</td>\n",
       "      <td>f3d50a1e-2744-4610-b91b-b55983c1db60</td>\n",
       "    </tr>\n",
       "    <tr>\n",
       "      <th>3</th>\n",
       "      <td>4151c8d5-6604-482d-85d9-7d40915ac15c</td>\n",
       "      <td>False</td>\n",
       "      <td>1.532164e+09</td>\n",
       "      <td>2018-07-21 17:00:01</td>\n",
       "      <td>17e27e49-d45a-48ed-a54e-d4666bde7455</td>\n",
       "    </tr>\n",
       "    <tr>\n",
       "      <th>4</th>\n",
       "      <td>59d3dc4e-d6e2-42c8-bdcd-bf5ce7832078</td>\n",
       "      <td>False</td>\n",
       "      <td>1.531645e+09</td>\n",
       "      <td>2018-07-15 17:00:01</td>\n",
       "      <td>a236e2e1-54c9-4fe7-aa2e-c33b60ed7250</td>\n",
       "    </tr>\n",
       "  </tbody>\n",
       "</table>\n",
       "</div>"
      ],
      "text/plain": [
       "                                user_id  human       my_time  \\\n",
       "0  7ee141b7-5941-403f-93cc-b4975eab2769  False  1.532336e+09   \n",
       "1  539edc42-7362-47de-bf94-ce0cf68fb5de  False  1.532855e+09   \n",
       "2  a576a197-ce6c-482f-8117-a1b4b73f21e5   True  1.532073e+09   \n",
       "3  4151c8d5-6604-482d-85d9-7d40915ac15c  False  1.532164e+09   \n",
       "4  59d3dc4e-d6e2-42c8-bdcd-bf5ce7832078  False  1.531645e+09   \n",
       "\n",
       "                  time                                  guid  \n",
       "0  2018-07-23 17:00:01  550c8436-1174-4d60-b6ec-1199337fb287  \n",
       "1  2018-07-29 17:00:01  35606c49-c92e-4b70-9264-6dabd763d34d  \n",
       "2  2018-07-20 15:49:28  f3d50a1e-2744-4610-b91b-b55983c1db60  \n",
       "3  2018-07-21 17:00:01  17e27e49-d45a-48ed-a54e-d4666bde7455  \n",
       "4  2018-07-15 17:00:01  a236e2e1-54c9-4fe7-aa2e-c33b60ed7250  "
      ]
     },
     "execution_count": 13,
     "metadata": {},
     "output_type": "execute_result"
    }
   ],
   "source": [
    "#顯示部分user\n",
    "df1.head()"
   ]
  },
  {
   "cell_type": "code",
   "execution_count": 14,
   "metadata": {},
   "outputs": [
    {
     "data": {
      "text/plain": [
       "(3571058, 5)"
      ]
     },
     "execution_count": 14,
     "metadata": {},
     "output_type": "execute_result"
    }
   ],
   "source": [
    "#只取人閱讀的\n",
    "df_log=df1[df1['human'] == 1]\n",
    "df_log.shape"
   ]
  },
  {
   "cell_type": "code",
   "execution_count": 15,
   "metadata": {},
   "outputs": [
    {
     "name": "stdout",
     "output_type": "stream",
     "text": [
      "train_test_split succeed!! with df_train shape:(3498499,5), df_test shape:(72559,5)\n"
     ]
    }
   ],
   "source": [
    "#分割資料\n",
    "#將訓練/測試集隨機分成9：1\n",
    "df_train,df_test, retrieve = train_test_split_time(df_log,'user_id','guid','time')"
   ]
  },
  {
   "cell_type": "code",
   "execution_count": 16,
   "metadata": {},
   "outputs": [
    {
     "data": {
      "text/html": [
       "<div>\n",
       "<style scoped>\n",
       "    .dataframe tbody tr th:only-of-type {\n",
       "        vertical-align: middle;\n",
       "    }\n",
       "\n",
       "    .dataframe tbody tr th {\n",
       "        vertical-align: top;\n",
       "    }\n",
       "\n",
       "    .dataframe thead th {\n",
       "        text-align: right;\n",
       "    }\n",
       "</style>\n",
       "<table border=\"1\" class=\"dataframe\">\n",
       "  <thead>\n",
       "    <tr style=\"text-align: right;\">\n",
       "      <th></th>\n",
       "      <th>user_id</th>\n",
       "      <th>human</th>\n",
       "      <th>my_time</th>\n",
       "      <th>time</th>\n",
       "      <th>guid</th>\n",
       "    </tr>\n",
       "  </thead>\n",
       "  <tbody>\n",
       "    <tr>\n",
       "      <th>2</th>\n",
       "      <td>a576a197-ce6c-482f-8117-a1b4b73f21e5</td>\n",
       "      <td>True</td>\n",
       "      <td>1.532073e+09</td>\n",
       "      <td>2018-07-20 15:49:28</td>\n",
       "      <td>f3d50a1e-2744-4610-b91b-b55983c1db60</td>\n",
       "    </tr>\n",
       "    <tr>\n",
       "      <th>8</th>\n",
       "      <td>0910ca21-0e55-4d8b-aa0c-8df93b47177c</td>\n",
       "      <td>True</td>\n",
       "      <td>1.531282e+09</td>\n",
       "      <td>2018-07-11 12:06:17</td>\n",
       "      <td>38f168a1-b69f-4532-9e7d-8fe963c53611</td>\n",
       "    </tr>\n",
       "    <tr>\n",
       "      <th>13</th>\n",
       "      <td>13ab7907-71d5-4eae-97be-06491d91d90f</td>\n",
       "      <td>True</td>\n",
       "      <td>1.531188e+09</td>\n",
       "      <td>2018-07-10 09:58:38</td>\n",
       "      <td>7bc023ae-a347-4dd8-8d38-2b1cba576946</td>\n",
       "    </tr>\n",
       "    <tr>\n",
       "      <th>16</th>\n",
       "      <td>6b72782c-48f9-4d51-bfc4-1bd5fa0c583e</td>\n",
       "      <td>True</td>\n",
       "      <td>1.531716e+09</td>\n",
       "      <td>2018-07-16 12:45:11</td>\n",
       "      <td>179d5a43-3d0a-41f4-8e23-8efa8b9b93c5</td>\n",
       "    </tr>\n",
       "    <tr>\n",
       "      <th>24</th>\n",
       "      <td>{3DA5A7EC-6FBB-4B06-B587-D9642273BF9E}</td>\n",
       "      <td>True</td>\n",
       "      <td>1.530600e+09</td>\n",
       "      <td>2018-07-03 14:38:12</td>\n",
       "      <td>553023B7-856C-45B5-A5FC-BE7EC88FB857</td>\n",
       "    </tr>\n",
       "  </tbody>\n",
       "</table>\n",
       "</div>"
      ],
      "text/plain": [
       "                                   user_id human       my_time  \\\n",
       "2     a576a197-ce6c-482f-8117-a1b4b73f21e5  True  1.532073e+09   \n",
       "8     0910ca21-0e55-4d8b-aa0c-8df93b47177c  True  1.531282e+09   \n",
       "13    13ab7907-71d5-4eae-97be-06491d91d90f  True  1.531188e+09   \n",
       "16    6b72782c-48f9-4d51-bfc4-1bd5fa0c583e  True  1.531716e+09   \n",
       "24  {3DA5A7EC-6FBB-4B06-B587-D9642273BF9E}  True  1.530600e+09   \n",
       "\n",
       "                   time                                  guid  \n",
       "2   2018-07-20 15:49:28  f3d50a1e-2744-4610-b91b-b55983c1db60  \n",
       "8   2018-07-11 12:06:17  38f168a1-b69f-4532-9e7d-8fe963c53611  \n",
       "13  2018-07-10 09:58:38  7bc023ae-a347-4dd8-8d38-2b1cba576946  \n",
       "16  2018-07-16 12:45:11  179d5a43-3d0a-41f4-8e23-8efa8b9b93c5  \n",
       "24  2018-07-03 14:38:12  553023B7-856C-45B5-A5FC-BE7EC88FB857  "
      ]
     },
     "execution_count": 16,
     "metadata": {},
     "output_type": "execute_result"
    }
   ],
   "source": [
    "#顯示部分訓練\n",
    "df_train.head()"
   ]
  },
  {
   "cell_type": "code",
   "execution_count": 17,
   "metadata": {},
   "outputs": [
    {
     "data": {
      "text/html": [
       "<div>\n",
       "<style scoped>\n",
       "    .dataframe tbody tr th:only-of-type {\n",
       "        vertical-align: middle;\n",
       "    }\n",
       "\n",
       "    .dataframe tbody tr th {\n",
       "        vertical-align: top;\n",
       "    }\n",
       "\n",
       "    .dataframe thead th {\n",
       "        text-align: right;\n",
       "    }\n",
       "</style>\n",
       "<table border=\"1\" class=\"dataframe\">\n",
       "  <thead>\n",
       "    <tr style=\"text-align: right;\">\n",
       "      <th></th>\n",
       "      <th>user_id</th>\n",
       "      <th>human</th>\n",
       "      <th>my_time</th>\n",
       "      <th>time</th>\n",
       "      <th>guid</th>\n",
       "    </tr>\n",
       "  </thead>\n",
       "  <tbody>\n",
       "    <tr>\n",
       "      <th>7146529</th>\n",
       "      <td>b4547e4d-c650-4f7a-acf7-f5f3ca30f073</td>\n",
       "      <td>True</td>\n",
       "      <td>1.514787e+09</td>\n",
       "      <td>2018-01-01 14:16:21</td>\n",
       "      <td>c23c3b1a-14fb-4521-9781-20dfb7531a31</td>\n",
       "    </tr>\n",
       "    <tr>\n",
       "      <th>7448985</th>\n",
       "      <td>{712A1770-9A53-4BE6-8A15-D8CC15C228A0}</td>\n",
       "      <td>True</td>\n",
       "      <td>1.514819e+09</td>\n",
       "      <td>2018-01-01 23:05:30</td>\n",
       "      <td>D8F9B736-5F04-4983-ADFA-62B3710EBBBB</td>\n",
       "    </tr>\n",
       "    <tr>\n",
       "      <th>7309630</th>\n",
       "      <td>{BCD87577-D699-4F8E-96BB-8C2E24F412D8}</td>\n",
       "      <td>True</td>\n",
       "      <td>1.514882e+09</td>\n",
       "      <td>2018-01-02 16:37:40</td>\n",
       "      <td>C41DF70E-4D1B-46C0-BDE0-FB7D2353FFBE</td>\n",
       "    </tr>\n",
       "    <tr>\n",
       "      <th>6823924</th>\n",
       "      <td>e371cfec-cd8f-4ded-a3c1-1ca6fad31986</td>\n",
       "      <td>True</td>\n",
       "      <td>1.514941e+09</td>\n",
       "      <td>2018-01-03 09:02:40</td>\n",
       "      <td>b6a9f7b7-3d14-407d-b6b3-7bd3ea4928eb</td>\n",
       "    </tr>\n",
       "    <tr>\n",
       "      <th>6447252</th>\n",
       "      <td>d4b82def-3f94-4315-a29b-7fab969b927a</td>\n",
       "      <td>True</td>\n",
       "      <td>1.514944e+09</td>\n",
       "      <td>2018-01-03 09:39:14</td>\n",
       "      <td>14254f9a-87e4-45c6-bc37-b359c008a693</td>\n",
       "    </tr>\n",
       "  </tbody>\n",
       "</table>\n",
       "</div>"
      ],
      "text/plain": [
       "                                        user_id human       my_time  \\\n",
       "7146529    b4547e4d-c650-4f7a-acf7-f5f3ca30f073  True  1.514787e+09   \n",
       "7448985  {712A1770-9A53-4BE6-8A15-D8CC15C228A0}  True  1.514819e+09   \n",
       "7309630  {BCD87577-D699-4F8E-96BB-8C2E24F412D8}  True  1.514882e+09   \n",
       "6823924    e371cfec-cd8f-4ded-a3c1-1ca6fad31986  True  1.514941e+09   \n",
       "6447252    d4b82def-3f94-4315-a29b-7fab969b927a  True  1.514944e+09   \n",
       "\n",
       "                        time                                  guid  \n",
       "7146529  2018-01-01 14:16:21  c23c3b1a-14fb-4521-9781-20dfb7531a31  \n",
       "7448985  2018-01-01 23:05:30  D8F9B736-5F04-4983-ADFA-62B3710EBBBB  \n",
       "7309630  2018-01-02 16:37:40  C41DF70E-4D1B-46C0-BDE0-FB7D2353FFBE  \n",
       "6823924  2018-01-03 09:02:40  b6a9f7b7-3d14-407d-b6b3-7bd3ea4928eb  \n",
       "6447252  2018-01-03 09:39:14  14254f9a-87e4-45c6-bc37-b359c008a693  "
      ]
     },
     "execution_count": 17,
     "metadata": {},
     "output_type": "execute_result"
    }
   ],
   "source": [
    "#顯示部分測試\n",
    "df_test.head()"
   ]
  },
  {
   "cell_type": "code",
   "execution_count": 18,
   "metadata": {},
   "outputs": [],
   "source": [
    "##定義函式\n",
    "#產生模擬的測試集\n",
    "#1。產生[[user_id，文章ID] * XXXXX]形式的test_rating\n",
    "#2。產生列表形式為[[（（（user_id，ground true））），[199（負樣本）]] * XXXXX]形式的negative_test_rating\n",
    "def get_sampling(df_target,df_source,numbers_of_N_sample, generate_negative = False):\n",
    "\n",
    "    \n",
    "    test_rating = df_target[['user_id','guid']].values.tolist()\n",
    "    \n",
    "    print('test_rating yield successfully!!!')\n",
    "    \n",
    "    if generate_negative == True:\n",
    "        df_temp = df_source.drop_duplicates(subset = 'guid', keep = 'first')\n",
    "        negative_test_rating = []\n",
    "        for i in range(df_target.shape[0]):\n",
    "            drop_id = test_rating[i][0]\n",
    "            list_ = df_temp[df_temp['user_id'] != drop_id]['guid'].sample(numbers_of_N_sample).values.tolist()\n",
    "            \n",
    "            negative_test_rating.append([test_rating[i],list_])\n",
    "        print('negative_test_rating yield successfully!!!')\n",
    "\n",
    "        return test_rating, negative_test_rating\n",
    "    else:\n",
    "        return test_rating"
   ]
  },
  {
   "cell_type": "code",
   "execution_count": 19,
   "metadata": {},
   "outputs": [
    {
     "name": "stdout",
     "output_type": "stream",
     "text": [
      "test_rating yield successfully!!!\n",
      "negative_test_rating yield successfully!!!\n",
      "Took for 4 seconds\n"
     ]
    }
   ],
   "source": [
    "#加速評估過程\n",
    "#選擇讀者尚未閱讀的其他199篇文章，計算這200（199 + 1）篇文章\n",
    "time1 = time()\n",
    "test_rating = get_sampling(df_test,df_train,None)\n",
    "with open(\"Negative_test_rating_199N.txt\",'rb') as f: #in read mode, not in write mode, careful\n",
    "    negative_test_rating = pickle.load(f)\n",
    "    print('negative_test_rating yield successfully!!!')\n",
    "time2 = time()\n",
    "print('Took for %d seconds' %(time2-time1))"
   ]
  },
  {
   "cell_type": "code",
   "execution_count": 20,
   "metadata": {},
   "outputs": [],
   "source": [
    "##定義函式\n",
    "#測試用戶已閱讀的訓練數據中的最後一篇文章\n",
    "#並根據此閱讀文章按餘弦相似度對候選文章進行排名。\n",
    "def test_user_last_pid_func(number_of_last_seen):\n",
    "    ### Create the last seen dict\n",
    "    test_user_last_pid = {}\n",
    "    retrieve_name = df_test.user_id.values\n",
    "    df_train_lookup = df_train[df_train['user_id'].isin(retrieve_name)].sort_values('time')\n",
    "    df_train_lookup = df_train_lookup[['user_id','guid','time']].drop_duplicates(subset = 'user_id', keep = 'last')\n",
    "    for i in range(len(df_train_lookup)):\n",
    "        test_user_last_pid[df_train_lookup['user_id'].values[i]]  = [df_train_lookup['guid'].values[i]]\n",
    "    ### Append the last nth seen dict\n",
    "    if number_of_last_seen > 1:\n",
    "        for number in range(2,number_of_last_seen+1):\n",
    "            df_train_lookup_append = df_train[df_train['user_id'].isin(retrieve_name)].sort_values('time')[['guid','user_id']].groupby(['user_id'],as_index = False).nth(-number)\n",
    "            for i in range(len(df_train_lookup_append)):\n",
    "                test_user_last_pid[df_train_lookup_append['user_id'].values[i]].append(df_train_lookup_append['guid'].values[i])\n",
    "    \n",
    "    return test_user_last_pid"
   ]
  },
  {
   "cell_type": "markdown",
   "metadata": {},
   "source": [
    "# Evaluation"
   ]
  },
  {
   "cell_type": "markdown",
   "metadata": {},
   "source": [
    "#基於內容的推薦"
   ]
  },
  {
   "cell_type": "markdown",
   "metadata": {},
   "source": [
    "#建議與用戶之前點擊過的商品最相似的商品"
   ]
  },
  {
   "cell_type": "code",
   "execution_count": 21,
   "metadata": {},
   "outputs": [],
   "source": [
    "#讀取次數（每個用戶閱讀文章的次數）\n",
    "#包含三列的數據框，分別為user_id，item_id和read_times\n",
    "#1 for read once 0 for never-read \n",
    "df_train['read_time'] = 1\n",
    "df_test['read_time'] = 1\n",
    "df_train_group = df_train[['user_id','guid','read_time']].groupby(by = ['user_id','guid'],as_index=False).sum()\n",
    "df_test_group = df_test[['user_id','guid','read_time']].groupby(by = ['user_id','guid'],as_index=False).sum()\n",
    "\n",
    "### For the reason that normally people don't read articles more than 10 times\n",
    "cliper = 10\n",
    "df_train_group['read_time'] = df_train_group['read_time'].apply(lambda w: min(cliper,w))\n",
    "\n",
    "\n",
    "### To feed into the keras model, we have to turn both the eruid and pid into integer index\n",
    "eruid_map = {i:v for i,v in enumerate(df_log.user_id.unique())}\n",
    "inverse_eruid_map = {v:i for i,v in enumerate(df_log.user_id.unique())}\n",
    "pid_map = {i:v for i,v in enumerate(df_log.guid.unique())}\n",
    "inverse_pid_map = {v:i for i,v in enumerate(df_log.guid.unique())}"
   ]
  },
  {
   "cell_type": "code",
   "execution_count": 22,
   "metadata": {},
   "outputs": [],
   "source": [
    "#對user_id和item_id進行索引和轉換\n",
    "#針對training data\n",
    "### creating a mapping table for training data\n",
    "df_train_group_map = df_train_group.copy()\n",
    "df_test_group_map = df_test_group.copy()\n",
    "df_train_group_map['user_id'] = df_train_group['user_id'].map(inverse_eruid_map)\n",
    "df_train_group_map['guid'] = df_train_group['guid'].map(inverse_pid_map)\n",
    "df_test_group_map['user_id'] = df_test_group['user_id'].map(inverse_eruid_map)\n",
    "df_test_group_map['guid'] = df_test_group['guid'].map(inverse_pid_map)\n",
    "\n",
    "#對user_id和item_id進行索引和轉換\n",
    "#針對testing data \n",
    "### creating a mapping list for testing data   \n",
    "test_rating_map = []\n",
    "for i in range(len(test_rating)):\n",
    "    test_rating_map.append([inverse_eruid_map[test_rating[i][0]],inverse_pid_map[test_rating[i][1]]])\n",
    "\n",
    "#對user_id和item_id進行索引和轉換\n",
    "#針對negative testing data\n",
    "### creating a mapping list for negative testing data\n",
    "negative_test_rating_map = []\n",
    "for i in range(len(negative_test_rating)):\n",
    "    negative_test_rating_map.append([\n",
    "                                     [inverse_eruid_map[negative_test_rating[i][0][0]],inverse_pid_map[negative_test_rating[i][0][1]]],\n",
    "                                     list(map(lambda w:inverse_pid_map[w],negative_test_rating[i][1]))])"
   ]
  },
  {
   "cell_type": "code",
   "execution_count": 23,
   "metadata": {},
   "outputs": [
    {
     "name": "stdout",
     "output_type": "stream",
     "text": [
      "df_train_group_map shape:  (3294247, 3)\n",
      "number of users:  1929869\n",
      "number of items:  224640\n",
      "The sparse matrix is one with shape (1929869 , 224640), with 3294247 non-zero read_times\n"
     ]
    }
   ],
   "source": [
    "#顯示資料\n",
    "print('df_train_group_map shape: ',df_train_group_map.shape)\n",
    "print('number of users: ', len(eruid_map.items()))\n",
    "print('number of items: ', len(pid_map.items()))\n",
    "print('The sparse matrix is one with shape (%d , %d), with %d non-zero read_times'\n",
    "      %(len(eruid_map.items()),len(pid_map.items()),df_train_group_map.shape[0]))"
   ]
  },
  {
   "cell_type": "code",
   "execution_count": null,
   "metadata": {
    "scrolled": true
   },
   "outputs": [
    {
     "name": "stderr",
     "output_type": "stream",
     "text": [
      "/opt/conda/lib/python3.6/site-packages/ipykernel_launcher.py:37: RuntimeWarning: Mean of empty slice.\n",
      "/opt/conda/lib/python3.6/site-packages/numpy/core/_methods.py:85: RuntimeWarning: invalid value encountered in double_scalars\n",
      "  ret = ret.dtype.type(ret / rcount)\n"
     ]
    },
    {
     "name": "stdout",
     "output_type": "stream",
     "text": [
      "HR = 0.2063, NDCG = 0.1068 [379.6 s] number of last seen = 0\n",
      "HR = 0.2063, NDCG = 0.1068 [378.5 s] number of last seen = 1\n",
      "HR = 0.2521, NDCG = 0.1262 [389.5 s] number of last seen = 2\n",
      "HR = 0.2698, NDCG = 0.1299 [392.1 s] number of last seen = 3\n",
      "HR = 0.2770, NDCG = 0.1300 [395.0 s] number of last seen = 4\n",
      "HR = 0.2828, NDCG = 0.1299 [400.3 s] number of last seen = 5\n",
      "HR = 0.2847, NDCG = 0.1290 [398.7 s] number of last seen = 6\n",
      "HR = 0.2845, NDCG = 0.1280 [401.5 s] number of last seen = 7\n",
      "HR = 0.2851, NDCG = 0.1274 [402.6 s] number of last seen = 8\n",
      "HR = 0.2849, NDCG = 0.1268 [406.7 s] number of last seen = 9\n",
      "HR = 0.2857, NDCG = 0.1266 [405.2 s] number of last seen = 10\n",
      "HR = 0.2850, NDCG = 0.1261 [446.4 s] number of last seen = 11\n",
      "HR = 0.2848, NDCG = 0.1257 [424.5 s] number of last seen = 12\n",
      "HR = 0.2849, NDCG = 0.1256 [404.5 s] number of last seen = 13\n",
      "HR = 0.2844, NDCG = 0.1254 [414.2 s] number of last seen = 14\n"
     ]
    }
   ],
   "source": [
    "#使用文章向量來計算文章之間的相似度。每篇文章都有3072個維度，我計算彼此之間的餘弦相似度，以衡量兩篇文章之間的相似度。\n",
    "#開始進行training。將topK設置為20， 這意味著如果將ground truth排在測試用戶的前20名文章中，則hit ratio將僅計為1，否則為0。 \n",
    "#我們開始訓練並在之前創建的negative test rating上進行評估（1 ground truth and 199 negative samples）。\n",
    "### Decide how many last pieces of articles to calculate\n",
    "number_of_seen_article = [i for i in range(20)]\n",
    "for number in number_of_seen_article:\n",
    "    test_user_last_pid = test_user_last_pid_func(number)\n",
    "\n",
    "    ### Evaluate how the 'most similar content recommendation works'\n",
    "    topK = 20\n",
    "    verbose = 0\n",
    "    evaluation_threads = 1\n",
    "\n",
    "    time_1 = time()\n",
    "    testRatings, testNegatives = test_rating, negative_test_rating\n",
    "    time1 = time()\n",
    "    (hits, ndcgs) = evaluate_model(None, testRatings, testNegatives, topK, evaluation_threads,\n",
    "                                   eval_mode = 'content-based', pid_vector = pid_vector,\n",
    "                                   test_user_last_pid = test_user_last_pid)\n",
    "    hr, ndcg = np.array(hits).mean(), np.array(ndcgs).mean()\n",
    "\n",
    "    print('HR = %.4f, NDCG = %.4f [%.1f s] number of last seen = %d' % (hr, ndcg, time()-time1,number))"
   ]
  },
  {
   "cell_type": "markdown",
   "metadata": {},
   "source": [
    "如果前20篇相似的文章hit the ground truth（用戶真正閱讀過的一篇文章），\n",
    "The HR is 28%，這意味著如果我根據相似性對商品進行排名和推薦，則它僅對28％的用戶有效。"
   ]
  },
  {
   "cell_type": "markdown",
   "metadata": {},
   "source": [
    "總之，在這一部分中，我演示了基於內容的推薦系統如何工作。\n",
    "關鍵是必須有一種表示項目內容的方法，\n",
    "因此可以根據要推薦的內容（這裡我使用BERT嵌入矢量來表示項目）。\n",
    "在這裡，結果似乎似乎在構建強大的推薦系統時，基於內容的 content-based system要比基於model-based 的系統弱，\n",
    "此外，當構建混合推薦系統時， 是strengthens。"
   ]
  }
 ],
 "metadata": {
  "kernelspec": {
   "display_name": "Python 3",
   "language": "python",
   "name": "python3"
  },
  "language_info": {
   "codemirror_mode": {
    "name": "ipython",
    "version": 3
   },
   "file_extension": ".py",
   "mimetype": "text/x-python",
   "name": "python",
   "nbconvert_exporter": "python",
   "pygments_lexer": "ipython3",
   "version": "3.6.9"
  }
 },
 "nbformat": 4,
 "nbformat_minor": 2
}
